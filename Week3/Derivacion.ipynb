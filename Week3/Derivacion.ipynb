{
 "cells": [
  {
   "cell_type": "code",
   "execution_count": 20,
   "id": "8ab4c8da",
   "metadata": {},
   "outputs": [],
   "source": [
    "import numpy as np\n",
    "import matplotlib.pyplot as plt\n",
    "from matplotlib import rc"
   ]
  },
  {
   "cell_type": "code",
   "execution_count": 21,
   "id": "5caec241",
   "metadata": {},
   "outputs": [
    {
     "name": "stdout",
     "output_type": "stream",
     "text": [
      "1.1102230246251565e-16\n"
     ]
    }
   ],
   "source": [
    "epsilon = 1.\n",
    "\n",
    "while 1 + epsilon != 1.:\n",
    "    epsilon *= 0.5\n",
    "\n",
    "print(epsilon)"
   ]
  },
  {
   "cell_type": "code",
   "execution_count": 22,
   "id": "adc8b9f4",
   "metadata": {},
   "outputs": [],
   "source": [
    "def epsilon(x):\n",
    "    return np.sin(x) - ( x - x**3/6)"
   ]
  },
  {
   "cell_type": "code",
   "execution_count": 23,
   "id": "4bd5ac3f",
   "metadata": {},
   "outputs": [
    {
     "name": "stdout",
     "output_type": "stream",
     "text": [
      "22.086127060303767\n"
     ]
    }
   ],
   "source": [
    "x = 3*np.pi/2\n",
    "print(epsilon(x)/epsilon(x/2))"
   ]
  },
  {
   "cell_type": "code",
   "execution_count": 24,
   "id": "f8ffffb8",
   "metadata": {},
   "outputs": [],
   "source": [
    "def Function(x):\n",
    "    return np.sin(x)\n",
    "def EDerivative(x):\n",
    "    return np.cos(x)"
   ]
  },
  {
   "cell_type": "code",
   "execution_count": 25,
   "id": "94d20efc",
   "metadata": {},
   "outputs": [
    {
     "name": "stdout",
     "output_type": "stream",
     "text": [
      "0.1282282715750936\n"
     ]
    }
   ],
   "source": [
    "x = np.linspace(0,2*np.pi,50)\n",
    "x\n",
    "h = x[1] - x[0]\n",
    "print(h)"
   ]
  },
  {
   "cell_type": "code",
   "execution_count": 26,
   "id": "02bbaeea",
   "metadata": {},
   "outputs": [
    {
     "data": {
      "text/plain": [
       "0.016442489631135954"
      ]
     },
     "execution_count": 26,
     "metadata": {},
     "output_type": "execute_result"
    }
   ],
   "source": [
    "h**2"
   ]
  },
  {
   "cell_type": "code",
   "execution_count": 27,
   "id": "2e51c9cf",
   "metadata": {},
   "outputs": [],
   "source": [
    "f = Function(x)"
   ]
  },
  {
   "cell_type": "code",
   "execution_count": 28,
   "id": "58cfd03f",
   "metadata": {},
   "outputs": [],
   "source": [
    "def RightDerivative(f,x,h):\n",
    "    \n",
    "    d = 0.\n",
    "    \n",
    "    if h != 0:\n",
    "        d = (f(x+h) - f(x))/h\n",
    "        \n",
    "    return d"
   ]
  },
  {
   "cell_type": "code",
   "execution_count": 29,
   "id": "8d8d4d92",
   "metadata": {},
   "outputs": [],
   "source": [
    "def LeftDerivative(f,x,h):\n",
    "    \n",
    "    d = 0.\n",
    "    \n",
    "    if h != 0:\n",
    "        d = (f(x) - f(x-h))/h\n",
    "        \n",
    "    return d"
   ]
  },
  {
   "cell_type": "code",
   "execution_count": 30,
   "id": "e6463e42",
   "metadata": {},
   "outputs": [],
   "source": [
    "def CentralDerivative(f,x,h):\n",
    "    \n",
    "    d = 0.\n",
    "    \n",
    "    if h != 0:\n",
    "        d = (f(x+h) - f(x-h))/(2*h)\n",
    "        \n",
    "    return d"
   ]
  },
  {
   "cell_type": "code",
   "execution_count": 31,
   "id": "14e53bc7",
   "metadata": {},
   "outputs": [
    {
     "data": {
      "text/plain": [
       "0.8773427028773151"
      ]
     },
     "execution_count": 31,
     "metadata": {},
     "output_type": "execute_result"
    }
   ],
   "source": [
    "RightDerivative(Function,0.5,0.001)"
   ]
  },
  {
   "cell_type": "code",
   "execution_count": 32,
   "id": "529a40c2",
   "metadata": {},
   "outputs": [],
   "source": [
    "RDerivative = RightDerivative(Function,x,h)\n",
    "LDerivative = LeftDerivative(Function,x,h)\n",
    "CDerivative = CentralDerivative(Function,x,h)"
   ]
  },
  {
   "cell_type": "code",
   "execution_count": 33,
   "id": "21d096bf",
   "metadata": {},
   "outputs": [
    {
     "data": {
      "text/plain": [
       "<matplotlib.collections.PathCollection at 0x7fac50e58220>"
      ]
     },
     "execution_count": 33,
     "metadata": {},
     "output_type": "execute_result"
    },
    {
     "data": {
      "image/png": "[encoded data removed]",
      "text/plain": [
       "<Figure size 432x288 with 1 Axes>"
      ]
     },
     "metadata": {
      "needs_background": "light"
     },
     "output_type": "display_data"
    }
   ],
   "source": [
    "plt.scatter(x,EDerivative(x))\n",
    "plt.scatter(x,RDerivative)\n",
    "plt.scatter(x,LDerivative)\n",
    "plt.scatter(x,CDerivative)"
   ]
  },
  {
   "cell_type": "code",
   "execution_count": 35,
   "id": "0198cac4",
   "metadata": {},
   "outputs": [
    {
     "data": {
      "text/plain": [
       "<matplotlib.legend.Legend at 0x7fac50ded2b0>"
      ]
     },
     "execution_count": 35,
     "metadata": {},
     "output_type": "execute_result"
    },
    {
     "data": {
      "image/png": "[encoded data removed]",
      "text/plain": [
       "<Figure size 432x288 with 1 Axes>"
      ]
     },
     "metadata": {
      "needs_background": "light"
     },
     "output_type": "display_data"
    }
   ],
   "source": [
    "plt.scatter(x,np.abs(EDerivative(x)-RDerivative),label='Right Derivative')\n",
    "plt.scatter(x,np.abs(EDerivative(x)-LDerivative),label='Left Derivative')\n",
    "plt.scatter(x,np.abs(EDerivative(x)-CDerivative),label='Central derivative')\n",
    "plt.yscale('log')\n",
    "plt.legend()"
   ]
  },
  {
   "cell_type": "code",
   "execution_count": 16,
   "id": "b9237a7a",
   "metadata": {},
   "outputs": [],
   "source": [
    "K = np.array([+1.,0.,-1.])"
   ]
  }
 ],
 "metadata": {
  "kernelspec": {
   "display_name": "Python 3 (ipykernel)",
   "language": "python",
   "name": "python3"
  },
  "language_info": {
   "codemirror_mode": {
    "name": "ipython",
    "version": 3
   },
   "file_extension": ".py",
   "mimetype": "text/x-python",
   "name": "python",
   "nbconvert_exporter": "python",
   "pygments_lexer": "ipython3",
   "version": "3.9.12"
  }
 },
 "nbformat": 4,
 "nbformat_minor": 5
}
